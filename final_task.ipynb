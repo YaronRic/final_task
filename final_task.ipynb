{
  "cells": [
    {
      "cell_type": "code",
      "execution_count": null,
      "metadata": {
        "id": "ytMVomuCiH2C"
      },
      "outputs": [],
      "source": [
        "import time\n",
        "import random\n",
        "import requests\n",
        "import re\n",
        "from datetime import datetime, timedelta\n",
        "import pandas as pd\n",
        "import numpy as np\n",
        "import string\n",
        "import pickle\n",
        "import os\n",
        "\n",
        "from bs4 import BeautifulSoup\n",
        "import html.parser\n",
        "import urllib.parse\n",
        "from html.parser import HTMLParser\n",
        "from flask import Flask, request, jsonify, render_template"
      ]
    },
    {
      "cell_type": "code",
      "execution_count": null,
      "metadata": {
        "colab": {
          "base_uri": "https://localhost:8080/",
          "height": 261
        },
        "id": "DL1rcwzniZdp",
        "outputId": "8fd5e1cd-b9ce-4a91-ac7d-6ebc0e7cd58e"
      },
      "outputs": [
        {
          "data": {
            "text/html": [
              "\n",
              "  <div id=\"df-4e9afd2d-04cd-4a05-8b9c-707efcaf43f5\">\n",
              "    <div class=\"colab-df-container\">\n",
              "      <div>\n",
              "<style scoped>\n",
              "    .dataframe tbody tr th:only-of-type {\n",
              "        vertical-align: middle;\n",
              "    }\n",
              "\n",
              "    .dataframe tbody tr th {\n",
              "        vertical-align: top;\n",
              "    }\n",
              "\n",
              "    .dataframe thead th {\n",
              "        text-align: right;\n",
              "    }\n",
              "</style>\n",
              "<table border=\"1\" class=\"dataframe\">\n",
              "  <thead>\n",
              "    <tr style=\"text-align: right;\">\n",
              "      <th></th>\n",
              "      <th>City</th>\n",
              "      <th>type</th>\n",
              "      <th>room_number</th>\n",
              "      <th>Area</th>\n",
              "      <th>Street</th>\n",
              "      <th>number_in_street</th>\n",
              "      <th>city_area</th>\n",
              "      <th>price</th>\n",
              "      <th>num_of_images</th>\n",
              "      <th>floor_out_of</th>\n",
              "      <th>...</th>\n",
              "      <th>condition</th>\n",
              "      <th>hasAirCondition</th>\n",
              "      <th>hasBalcony</th>\n",
              "      <th>hasMamad</th>\n",
              "      <th>handicapFriendly</th>\n",
              "      <th>entranceDate</th>\n",
              "      <th>furniture</th>\n",
              "      <th>publishedDays</th>\n",
              "      <th>description</th>\n",
              "      <th>Unnamed: 23</th>\n",
              "    </tr>\n",
              "  </thead>\n",
              "  <tbody>\n",
              "    <tr>\n",
              "      <th>0</th>\n",
              "      <td>פתח תקווה</td>\n",
              "      <td>דירה</td>\n",
              "      <td>5.5</td>\n",
              "      <td>137</td>\n",
              "      <td>רפאלי שרגא</td>\n",
              "      <td>3</td>\n",
              "      <td>אם המושבות החדשה</td>\n",
              "      <td>3600000</td>\n",
              "      <td>6.0</td>\n",
              "      <td>קומה 11 מתוך 19</td>\n",
              "      <td>...</td>\n",
              "      <td>שמור</td>\n",
              "      <td>TRUE</td>\n",
              "      <td>FALSE</td>\n",
              "      <td>TRUE</td>\n",
              "      <td>TRUE</td>\n",
              "      <td>גמיש</td>\n",
              "      <td>לא צויין</td>\n",
              "      <td>7</td>\n",
              "      <td>למכירה 5.5 חדרים ענקית, מרווחת , מוארת , קומה ...</td>\n",
              "      <td>NaN</td>\n",
              "    </tr>\n",
              "  </tbody>\n",
              "</table>\n",
              "<p>1 rows × 24 columns</p>\n",
              "</div>\n",
              "      <button class=\"colab-df-convert\" onclick=\"convertToInteractive('df-4e9afd2d-04cd-4a05-8b9c-707efcaf43f5')\"\n",
              "              title=\"Convert this dataframe to an interactive table.\"\n",
              "              style=\"display:none;\">\n",
              "        \n",
              "  <svg xmlns=\"http://www.w3.org/2000/svg\" height=\"24px\"viewBox=\"0 0 24 24\"\n",
              "       width=\"24px\">\n",
              "    <path d=\"M0 0h24v24H0V0z\" fill=\"none\"/>\n",
              "    <path d=\"M18.56 5.44l.94 2.06.94-2.06 2.06-.94-2.06-.94-.94-2.06-.94 2.06-2.06.94zm-11 1L8.5 8.5l.94-2.06 2.06-.94-2.06-.94L8.5 2.5l-.94 2.06-2.06.94zm10 10l.94 2.06.94-2.06 2.06-.94-2.06-.94-.94-2.06-.94 2.06-2.06.94z\"/><path d=\"M17.41 7.96l-1.37-1.37c-.4-.4-.92-.59-1.43-.59-.52 0-1.04.2-1.43.59L10.3 9.45l-7.72 7.72c-.78.78-.78 2.05 0 2.83L4 21.41c.39.39.9.59 1.41.59.51 0 1.02-.2 1.41-.59l7.78-7.78 2.81-2.81c.8-.78.8-2.07 0-2.86zM5.41 20L4 18.59l7.72-7.72 1.47 1.35L5.41 20z\"/>\n",
              "  </svg>\n",
              "      </button>\n",
              "      \n",
              "  <style>\n",
              "    .colab-df-container {\n",
              "      display:flex;\n",
              "      flex-wrap:wrap;\n",
              "      gap: 12px;\n",
              "    }\n",
              "\n",
              "    .colab-df-convert {\n",
              "      background-color: #E8F0FE;\n",
              "      border: none;\n",
              "      border-radius: 50%;\n",
              "      cursor: pointer;\n",
              "      display: none;\n",
              "      fill: #1967D2;\n",
              "      height: 32px;\n",
              "      padding: 0 0 0 0;\n",
              "      width: 32px;\n",
              "    }\n",
              "\n",
              "    .colab-df-convert:hover {\n",
              "      background-color: #E2EBFA;\n",
              "      box-shadow: 0px 1px 2px rgba(60, 64, 67, 0.3), 0px 1px 3px 1px rgba(60, 64, 67, 0.15);\n",
              "      fill: #174EA6;\n",
              "    }\n",
              "\n",
              "    [theme=dark] .colab-df-convert {\n",
              "      background-color: #3B4455;\n",
              "      fill: #D2E3FC;\n",
              "    }\n",
              "\n",
              "    [theme=dark] .colab-df-convert:hover {\n",
              "      background-color: #434B5C;\n",
              "      box-shadow: 0px 1px 3px 1px rgba(0, 0, 0, 0.15);\n",
              "      filter: drop-shadow(0px 1px 2px rgba(0, 0, 0, 0.3));\n",
              "      fill: #FFFFFF;\n",
              "    }\n",
              "  </style>\n",
              "\n",
              "      <script>\n",
              "        const buttonEl =\n",
              "          document.querySelector('#df-4e9afd2d-04cd-4a05-8b9c-707efcaf43f5 button.colab-df-convert');\n",
              "        buttonEl.style.display =\n",
              "          google.colab.kernel.accessAllowed ? 'block' : 'none';\n",
              "\n",
              "        async function convertToInteractive(key) {\n",
              "          const element = document.querySelector('#df-4e9afd2d-04cd-4a05-8b9c-707efcaf43f5');\n",
              "          const dataTable =\n",
              "            await google.colab.kernel.invokeFunction('convertToInteractive',\n",
              "                                                     [key], {});\n",
              "          if (!dataTable) return;\n",
              "\n",
              "          const docLinkHtml = 'Like what you see? Visit the ' +\n",
              "            '<a target=\"_blank\" href=https://colab.research.google.com/notebooks/data_table.ipynb>data table notebook</a>'\n",
              "            + ' to learn more about interactive tables.';\n",
              "          element.innerHTML = '';\n",
              "          dataTable['output_type'] = 'display_data';\n",
              "          await google.colab.output.renderOutput(dataTable, element);\n",
              "          const docLink = document.createElement('div');\n",
              "          docLink.innerHTML = docLinkHtml;\n",
              "          element.appendChild(docLink);\n",
              "        }\n",
              "      </script>\n",
              "    </div>\n",
              "  </div>\n",
              "  "
            ],
            "text/plain": [
              "        City  type room_number Area      Street number_in_street  \\\n",
              "0  פתח תקווה  דירה         5.5  137  רפאלי שרגא                3   \n",
              "\n",
              "          city_area    price  num_of_images     floor_out_of  ... condition   \\\n",
              "0  אם המושבות החדשה  3600000            6.0  קומה 11 מתוך 19  ...       שמור   \n",
              "\n",
              "  hasAirCondition  hasBalcony  hasMamad  handicapFriendly  entranceDate   \\\n",
              "0             TRUE       FALSE      TRUE              TRUE          גמיש   \n",
              "\n",
              "  furniture  publishedDays   \\\n",
              "0   לא צויין              7   \n",
              "\n",
              "                                        description  Unnamed: 23  \n",
              "0  למכירה 5.5 חדרים ענקית, מרווחת , מוארת , קומה ...         NaN  \n",
              "\n",
              "[1 rows x 24 columns]"
            ]
          },
          "execution_count": 2,
          "metadata": {},
          "output_type": "execute_result"
        }
      ],
      "source": [
        "url = 'https://raw.githubusercontent.com/YaronRic/final_task/main/output_all_students_Train_v8.csv'\n",
        "df = pd.read_csv(url)\n",
        "df.head(1)"
      ]
    },
    {
      "cell_type": "code",
      "execution_count": null,
      "metadata": {
        "colab": {
          "base_uri": "https://localhost:8080/"
        },
        "id": "PjETgiIeJW9C",
        "outputId": "36d9ac98-31d9-44c2-e672-099c2dd275ce"
      },
      "outputs": [
        {
          "data": {
            "text/plain": [
              "24"
            ]
          },
          "execution_count": 3,
          "metadata": {},
          "output_type": "execute_result"
        }
      ],
      "source": [
        "len(df.columns)"
      ]
    },
    {
      "cell_type": "code",
      "execution_count": null,
      "metadata": {
        "colab": {
          "base_uri": "https://localhost:8080/"
        },
        "id": "i0gF7kWAKVWt",
        "outputId": "51e236f2-2f3d-4ae1-fdb4-d9c293873248"
      },
      "outputs": [
        {
          "data": {
            "text/plain": [
              "699"
            ]
          },
          "execution_count": 4,
          "metadata": {},
          "output_type": "execute_result"
        }
      ],
      "source": [
        "len(df)"
      ]
    },
    {
      "cell_type": "code",
      "execution_count": null,
      "metadata": {
        "colab": {
          "base_uri": "https://localhost:8080/"
        },
        "id": "fcP8DW0bwffc",
        "outputId": "f6df58f3-6229-4d1c-b62e-ef16057106e7"
      },
      "outputs": [
        {
          "name": "stdout",
          "output_type": "stream",
          "text": [
            "The data type of column 'City' is: object\n",
            "The data type of column 'type' is: object\n",
            "The data type of column 'room_number' is: object\n",
            "The data type of column 'Area' is: object\n",
            "The data type of column 'Street' is: object\n",
            "The data type of column 'number_in_street' is: object\n",
            "The data type of column 'city_area' is: object\n",
            "The data type of column 'price' is: object\n",
            "The data type of column 'num_of_images' is: float64\n",
            "The data type of column 'floor_out_of' is: object\n",
            "The data type of column 'hasElevator ' is: object\n",
            "The data type of column 'hasParking ' is: object\n",
            "The data type of column 'hasBars ' is: object\n",
            "The data type of column 'hasStorage ' is: object\n",
            "The data type of column 'condition ' is: object\n",
            "The data type of column 'hasAirCondition ' is: object\n",
            "The data type of column 'hasBalcony ' is: object\n",
            "The data type of column 'hasMamad ' is: object\n",
            "The data type of column 'handicapFriendly ' is: object\n",
            "The data type of column 'entranceDate ' is: object\n",
            "The data type of column 'furniture ' is: object\n",
            "The data type of column 'publishedDays ' is: object\n",
            "The data type of column 'description ' is: object\n",
            "The data type of column 'Unnamed: 23' is: float64\n"
          ]
        }
      ],
      "source": [
        "for column in df.columns:\n",
        "    print(f\"The data type of column '{column}' is: {df[column].dtype}\")"
      ]
    },
    {
      "cell_type": "code",
      "execution_count": null,
      "metadata": {
        "colab": {
          "base_uri": "https://localhost:8080/"
        },
        "id": "UNjD4K1UluRt",
        "outputId": "d5a0793a-b2cf-45ff-b110-395dc19e3e98"
      },
      "outputs": [
        {
          "name": "stdout",
          "output_type": "stream",
          "text": [
            "before -> 699 rows.\n",
            "after -> 694 rows.\n"
          ]
        }
      ],
      "source": [
        "# stage_2 - prepare the data\n",
        "# 2-a\n",
        "print(f'before -> {len(df)} rows.')\n",
        "df.dropna(subset=['price'], inplace=True)\n",
        "print(f'after -> {len(df)} rows.')"
      ]
    },
    {
      "cell_type": "code",
      "execution_count": null,
      "metadata": {
        "colab": {
          "base_uri": "https://localhost:8080/"
        },
        "id": "t1QU-u_EoGxv",
        "outputId": "20086c1c-722a-4cc9-d2dc-45aa986eb1fc"
      },
      "outputs": [
        {
          "data": {
            "text/plain": [
              "dtype('float64')"
            ]
          },
          "execution_count": 7,
          "metadata": {},
          "output_type": "execute_result"
        }
      ],
      "source": [
        "# 2-b\n",
        "df['price'] = df['price'].replace('[^\\d.]', '', regex=True)\n",
        "df['price'] = pd.to_numeric(df['price'], errors='coerce')\n",
        "df['price'] = df['price'].astype(float)\n",
        "\n",
        "df['price'].dtype"
      ]
    },
    {
      "cell_type": "code",
      "execution_count": null,
      "metadata": {
        "colab": {
          "base_uri": "https://localhost:8080/"
        },
        "id": "hySvTmG2qMui",
        "outputId": "dcf06575-a1bd-45c7-b694-fc0d258e415d"
      },
      "outputs": [
        {
          "data": {
            "text/plain": [
              "dtype('float64')"
            ]
          },
          "execution_count": 8,
          "metadata": {},
          "output_type": "execute_result"
        }
      ],
      "source": [
        "# 2-c\n",
        "df['Area'] = df['Area'].replace('[^\\d.]', '', regex=True)\n",
        "df['Area'] = pd.to_numeric(df['Area'], errors='coerce')\n",
        "df['Area'] = df['Area'].astype(float)\n",
        "\n",
        "df['Area'].dtype"
      ]
    },
    {
      "cell_type": "code",
      "execution_count": null,
      "metadata": {
        "colab": {
          "base_uri": "https://localhost:8080/"
        },
        "id": "tcBUvc_YoN9i",
        "outputId": "993e82b7-6a5a-4c36-cc01-813dab5d7e29"
      },
      "outputs": [
        {
          "data": {
            "text/plain": [
              "dtype('O')"
            ]
          },
          "execution_count": 9,
          "metadata": {},
          "output_type": "execute_result"
        }
      ],
      "source": [
        "# 2-d\n",
        "def remove_punctuation(text):\n",
        "    if isinstance(text, str):\n",
        "        return text.translate(str.maketrans('', '', string.punctuation))\n",
        "    return text\n",
        "\n",
        "#text = \"hel)(lo, 'my-n/am]e![ is. Yaron\"\n",
        "#print(remove_punctuation(text))\n",
        "\n",
        "df['Street'] = df['Street'].apply(remove_punctuation)\n",
        "df['Street'].dtype"
      ]
    },
    {
      "cell_type": "code",
      "execution_count": null,
      "metadata": {
        "colab": {
          "base_uri": "https://localhost:8080/"
        },
        "id": "xhbsOoQ9rA4r",
        "outputId": "d5645dc0-4c5f-4369-ba52-448b23a0c29e"
      },
      "outputs": [
        {
          "data": {
            "text/plain": [
              "array([11,  6,  2,  3,  7,  4, 13,  9, 14,  0,  1,  5, 10, 19,  8, 15, 25,\n",
              "       17, 12, 18, 29, 16, 20])"
            ]
          },
          "execution_count": 10,
          "metadata": {},
          "output_type": "execute_result"
        }
      ],
      "source": [
        "# 2-e\n",
        "def convert_int(value):\n",
        "    try:\n",
        "        return int(value)\n",
        "    except:\n",
        "        return 0\n",
        "\n",
        "df['floor'] = df['floor_out_of'].str.split(' ', expand=True)[1]\n",
        "df['floor'] = pd.to_numeric(df['floor'].apply(convert_int))\n",
        "\n",
        "df['floor'].unique()\n"
      ]
    },
    {
      "cell_type": "code",
      "execution_count": null,
      "metadata": {
        "colab": {
          "base_uri": "https://localhost:8080/"
        },
        "id": "AD-SCuOgvU6C",
        "outputId": "eb683b31-515b-4414-aaf1-f687170f9d92"
      },
      "outputs": [
        {
          "data": {
            "text/plain": [
              "array([19,  9,  7,  6,  8, 24, 14, 16, 21, 28,  3,  0,  4,  2, 10,  5, 18,\n",
              "       20, 13, 12, 30, 15, 26, 25,  1, 17, 11, 27, 22])"
            ]
          },
          "execution_count": 11,
          "metadata": {},
          "output_type": "execute_result"
        }
      ],
      "source": [
        "df['total_floor'] = df['floor_out_of'].str.split(' ', expand=True)[3]\n",
        "df['total_floor'] = pd.to_numeric(df['total_floor'].apply(convert_int))\n",
        "df['total_floor'].unique()"
      ]
    },
    {
      "cell_type": "code",
      "execution_count": null,
      "metadata": {
        "colab": {
          "base_uri": "https://localhost:8080/"
        },
        "id": "28d-YNxvrFEn",
        "outputId": "f82a8af7-c51f-4990-da77-627c01cfd2ee"
      },
      "outputs": [
        {
          "data": {
            "text/plain": [
              "array(['גמיש', 'מיידי', '01/07/2023', 'לא צויין', '01/11/2023',\n",
              "       '01/12/2023', '01/06/2023', '01/01/2023', 'גמיש ', '01/08/2023',\n",
              "       '01/01/2026', '01/06/2024', '01/05/2024', '01/10/2023',\n",
              "       '01/12/2024', '01/07/2024', '01/01/2024', '01/02/2024',\n",
              "       '01/11/2022', '01/09/2024', '01/11/2025', '01/11/2024',\n",
              "       '01/04/2024', '01/03/2025', '01/02/2025', '01/02/2023',\n",
              "       '01/03/2024'], dtype=object)"
            ]
          },
          "execution_count": 12,
          "metadata": {},
          "output_type": "execute_result"
        }
      ],
      "source": [
        "df['entranceDate '].unique()"
      ]
    },
    {
      "cell_type": "code",
      "execution_count": null,
      "metadata": {
        "colab": {
          "base_uri": "https://localhost:8080/"
        },
        "id": "_qy49IfS5kjv",
        "outputId": "f08adb7d-5c18-4faf-bdc8-8ce69b5a971d"
      },
      "outputs": [
        {
          "name": "stderr",
          "output_type": "stream",
          "text": [
            "<ipython-input-13-2d55bef3ed1e>:3: UserWarning: Parsing dates in DD/MM/YYYY format when dayfirst=False (the default) was specified. This may lead to inconsistently parsed dates! Specify a format to ensure consistent parsing.\n",
            "  today = pd.to_datetime(today)\n"
          ]
        }
      ],
      "source": [
        "# Define today's date\n",
        "today = pd.Timestamp.now().strftime('%d/%m/%Y')\n",
        "today = pd.to_datetime(today)\n",
        "\n",
        "# Create a copy of the original DataFrame, as we're going to modify the entranceDate column\n",
        "df_temp = df.copy()\n",
        "\n",
        "# Convert to datetime format where possible\n",
        "df_temp['entranceDate '] = pd.to_datetime(df_temp['entranceDate '], errors='coerce', dayfirst=True)\n",
        "\n",
        "# Create the entrance_date column and initially set all values to not_defined\n",
        "df['entrance_date'] = 'not_defined'\n",
        "\n",
        "# Update the entrance_date column based on conditions\n",
        "\n",
        "# Condition for 'flexible'\n",
        "df.loc[df['entranceDate '].str.contains('גמיש'), 'entrance_date'] = 'flexible'\n",
        "\n",
        "# Condition for 'less_than_6_months'\n",
        "df.loc[df['entranceDate '].str.contains('מיידי'), 'entrance_date'] = 'less_than_6_months'\n",
        "\n",
        "# Condition for 'months_6_12'\n",
        "df.loc[((df_temp['entranceDate '] - today).dt.days / 30 >= 6) & ((df_temp['entranceDate '] - today).dt.days / 30 <= 12), 'entrance_date'] = 'months_6_12'\n",
        "\n",
        "# Condition for 'above_year'\n",
        "df.loc[((df_temp['entranceDate '] - today).dt.days / 30 > 12), 'entrance_date'] = 'above_year'\n",
        "\n"
      ]
    },
    {
      "cell_type": "code",
      "execution_count": null,
      "metadata": {
        "colab": {
          "base_uri": "https://localhost:8080/"
        },
        "id": "np57wfe_ykhJ",
        "outputId": "94ac4aca-e274-4455-da91-5255415c9122"
      },
      "outputs": [
        {
          "data": {
            "text/plain": [
              "array(['flexible', 'less_than_6_months', 'not_defined', 'above_year',\n",
              "       'months_6_12'], dtype=object)"
            ]
          },
          "execution_count": 14,
          "metadata": {},
          "output_type": "execute_result"
        }
      ],
      "source": [
        "df['entrance_date'].unique()"
      ]
    },
    {
      "cell_type": "code",
      "execution_count": null,
      "metadata": {
        "colab": {
          "base_uri": "https://localhost:8080/"
        },
        "id": "GB8IzIh9viKe",
        "outputId": "00cbedb9-26b2-428c-9aea-7900aec4a7dd"
      },
      "outputs": [
        {
          "data": {
            "text/plain": [
              "Index(['City', 'type', 'room_number', 'Area', 'Street', 'number_in_street',\n",
              "       'city_area', 'price', 'num_of_images', 'floor_out_of', 'hasElevator ',\n",
              "       'hasParking ', 'hasBars ', 'hasStorage ', 'condition ',\n",
              "       'hasAirCondition ', 'hasBalcony ', 'hasMamad ', 'handicapFriendly ',\n",
              "       'entranceDate ', 'furniture ', 'publishedDays ', 'description ',\n",
              "       'Unnamed: 23', 'floor', 'total_floor', 'entrance_date'],\n",
              "      dtype='object')"
            ]
          },
          "execution_count": 15,
          "metadata": {},
          "output_type": "execute_result"
        }
      ],
      "source": [
        "df.columns"
      ]
    },
    {
      "cell_type": "code",
      "execution_count": null,
      "metadata": {
        "colab": {
          "base_uri": "https://localhost:8080/"
        },
        "id": "lHhDu78a6x3E",
        "outputId": "75410b51-ac74-4478-975d-1577c4fae67f"
      },
      "outputs": [
        {
          "name": "stdout",
          "output_type": "stream",
          "text": [
            "hasElevator  ['TRUE' 'FALSE' '1' '0' 'כן' 'לא' nan 'יש מעלית' 'אין מעלית' 'אין' 'יש'\n",
            " 'no' 'yes']\n",
            "hasParking  ['FALSE' 'TRUE' '0' '1' 'כן' 'לא' nan 'יש חנייה' 'יש' 'אין' 'אין חניה'\n",
            " 'יש חניה' 'no' 'yes']\n",
            "hasBars  ['TRUE' 'FALSE' '0' '1' 'לא' 'כן' nan 'אין סורגים' 'יש סורגים' 'יש' 'אין'\n",
            " 'no' 'yes']\n",
            "hasStorage  ['FALSE' 'TRUE' '1' '0' 'כן' 'לא' nan 'אין מחסן' 'יש מחסן' 'יש' 'אין' 'no'\n",
            " 'yes']\n",
            "hasAirCondition  ['TRUE' 'FALSE' '1' '0' 'כן' 'לא' nan 'יש מיזוג אויר' 'יש' 'אין'\n",
            " 'אין מיזוג אויר' 'יש מיזוג אוויר' 'no' 'yes']\n",
            "hasBalcony  ['FALSE' 'TRUE' '0' '1' 'לא' 'כן' nan 'אין מרפסת' 'יש מרפסת' 'יש' 'אין'\n",
            " 'no' 'yes']\n",
            "hasMamad  ['TRUE' 'FALSE' '1' '0' 'לא' 'כן' 'yes' nan 'אין ממ״ד' 'יש ממ״ד' 'יש'\n",
            " 'אין' 'יש ממ\"ד' 'אין ממ\"ד' 'no']\n",
            "handicapFriendly  ['TRUE' 'FALSE' '0' '1' 'לא' 'כן' nan 'לא נגיש לנכים' 'נגיש לנכים' 'נגיש'\n",
            " 'לא נגיש']\n"
          ]
        }
      ],
      "source": [
        "# 2-g\n",
        "print('hasElevator ',df['hasElevator '].unique())\n",
        "print('hasParking ',df['hasParking '].unique())\n",
        "print('hasBars ',df['hasBars '].unique())\n",
        "print('hasStorage ',df['hasStorage '].unique())\n",
        "print('hasAirCondition ',df['hasAirCondition '].unique())\n",
        "print('hasBalcony ',df['hasBalcony '].unique())\n",
        "print('hasMamad ',df['hasMamad '].unique())\n",
        "print('handicapFriendly ',df['handicapFriendly '].unique())"
      ]
    },
    {
      "cell_type": "code",
      "execution_count": null,
      "metadata": {
        "id": "lEVkOLEE9Dtz"
      },
      "outputs": [],
      "source": [
        "def convert_boolean(value):\n",
        "    if isinstance(value, str):\n",
        "        if ('אין' in value) or ('לא נגיש') in value:\n",
        "            return 0\n",
        "        elif ('יש') in value or ('נגיש') in value:\n",
        "            return 1\n",
        "    return 0\n",
        "\n",
        "columns_to_convert = ['hasElevator ', 'hasParking ', 'hasBars ', 'hasStorage ', 'hasAirCondition ', 'hasBalcony ', 'hasMamad ', 'handicapFriendly ']\n",
        "df[columns_to_convert] = df[columns_to_convert].applymap(convert_boolean).astype(bool).astype(int)\n"
      ]
    },
    {
      "cell_type": "code",
      "execution_count": null,
      "metadata": {
        "colab": {
          "base_uri": "https://localhost:8080/"
        },
        "id": "LQrilVx89UPN",
        "outputId": "50169cfd-8a89-4c72-9f4d-989689364c91"
      },
      "outputs": [
        {
          "name": "stdout",
          "output_type": "stream",
          "text": [
            "hasElevator  [0 1]\n",
            "hasParking  [0 1]\n",
            "hasBars  [0 1]\n",
            "hasStorage  [0 1]\n",
            "hasAirCondition  [0 1]\n",
            "hasBalcony  [0 1]\n",
            "hasMamad  [0 1]\n",
            "handicapFriendly  [0 1]\n"
          ]
        }
      ],
      "source": [
        "# 2-g\n",
        "print('hasElevator ',df['hasElevator '].unique())\n",
        "print('hasParking ',df['hasParking '].unique())\n",
        "print('hasBars ',df['hasBars '].unique())\n",
        "print('hasStorage ',df['hasStorage '].unique())\n",
        "print('hasAirCondition ',df['hasAirCondition '].unique())\n",
        "print('hasBalcony ',df['hasBalcony '].unique())\n",
        "print('hasMamad ',df['hasMamad '].unique())\n",
        "print('handicapFriendly ',df['handicapFriendly '].unique())"
      ]
    },
    {
      "cell_type": "code",
      "execution_count": null,
      "metadata": {
        "id": "SOmXiFS25Uiw"
      },
      "outputs": [],
      "source": [
        "# stage_3\n",
        "from sklearn.linear_model import ElasticNet\n",
        "from sklearn.preprocessing import StandardScaler\n",
        "from sklearn.model_selection import cross_val_score, KFold\n",
        "from sklearn.metrics import mean_squared_error, mean_absolute_error, r2_score\n",
        "from sklearn.pipeline import Pipeline\n",
        "from sklearn.compose import ColumnTransformer\n",
        "from sklearn.preprocessing import OneHotEncoder\n",
        "from sklearn.impute import SimpleImputer"
      ]
    },
    {
      "cell_type": "code",
      "execution_count": null,
      "metadata": {
        "colab": {
          "base_uri": "https://localhost:8080/"
        },
        "id": "Uc55O0nhjMQl",
        "outputId": "26768a47-4676-47f6-9c0f-53ccff841b47"
      },
      "outputs": [
        {
          "name": "stderr",
          "output_type": "stream",
          "text": [
            "<ipython-input-20-8a35305510c3>:6: FutureWarning: The default value of regex will change from True to False in a future version.\n",
            "  df['price'] = pd.to_numeric(df['price'].str.replace('[^\\d.]', ''), errors='coerce')\n",
            "<ipython-input-20-8a35305510c3>:7: FutureWarning: The default value of regex will change from True to False in a future version.\n",
            "  df['room_number'] = pd.to_numeric(df['room_number'].str.replace('[^\\d.]', ''), errors='coerce')\n",
            "<ipython-input-20-8a35305510c3>:8: FutureWarning: The default value of regex will change from True to False in a future version.\n",
            "  df['Area'] = pd.to_numeric(df['Area'].str.replace('[^\\d.]', ''), errors='coerce')\n"
          ]
        }
      ],
      "source": [
        "# prepare the df\n",
        "# Convert 'price', 'room_number', 'Area' columns to string\n",
        "df[['price', 'room_number', 'Area']] = df[['price', 'room_number', 'Area']].astype(str)\n",
        "\n",
        "# Perform string operations and then convert to numeric\n",
        "df['price'] = pd.to_numeric(df['price'].str.replace('[^\\d.]', ''), errors='coerce')\n",
        "df['room_number'] = pd.to_numeric(df['room_number'].str.replace('[^\\d.]', ''), errors='coerce')\n",
        "df['Area'] = pd.to_numeric(df['Area'].str.replace('[^\\d.]', ''), errors='coerce')\n",
        "\n",
        "# Convert binary features to 0 and 1\n",
        "binary_columns = ['hasElevator ', 'hasParking ', 'hasBars ', 'hasStorage ', 'hasAirCondition ', 'hasBalcony ', 'hasMamad ', 'handicapFriendly ']\n",
        "\n",
        "# Ensure the binary columns are of string type\n",
        "df[binary_columns] = df[binary_columns].astype(str)\n",
        "\n",
        "# Now apply the string operation and convert to integer\n",
        "df[binary_columns] = df[binary_columns].applymap(lambda x: 1 if 'יש' in x else 0)\n",
        "\n"
      ]
    },
    {
      "cell_type": "code",
      "execution_count": null,
      "metadata": {
        "colab": {
          "base_uri": "https://localhost:8080/"
        },
        "id": "tzZODcTAip6g",
        "outputId": "12ea23f4-0c33-49a1-f5f0-1169f9eabbfb"
      },
      "outputs": [
        {
          "name": "stdout",
          "output_type": "stream",
          "text": [
            "R^2 Score:  0.5387373843325127\n",
            "Mean Absolute Error:  704104.8613541232\n",
            "Mean Squared Error:  2038065193863.8083\n",
            "Root Mean Squared Error:  1427608.2074097951\n",
            "Optimal alpha:  18573.304307247483\n",
            "Optimal l1 ratio:  1.0\n"
          ]
        }
      ],
      "source": [
        "# Necessary imports\n",
        "from sklearn.model_selection import cross_val_score, train_test_split\n",
        "from sklearn.linear_model import ElasticNetCV\n",
        "from sklearn import metrics\n",
        "from sklearn.preprocessing import StandardScaler\n",
        "\n",
        "# First, we will handle categorical variables using one-hot encoding\n",
        "df = pd.get_dummies(df, drop_first=True)\n",
        "\n",
        "# Handle any remaining NaN values\n",
        "df.fillna(0, inplace=True)\n",
        "\n",
        "# Select predictor columns.\n",
        "# Here I've selected all columns except 'price'. You can choose the columns as per your requirement\n",
        "X = df.drop('price', axis=1)\n",
        "\n",
        "# Select target column\n",
        "y = df['price']\n",
        "\n",
        "# Standardize the predictor columns\n",
        "scaler = StandardScaler()\n",
        "X = scaler.fit_transform(X)\n",
        "\n",
        "# Split the data into train and test sets\n",
        "X_train, X_test, y_train, y_test = train_test_split(X, y, test_size=0.2, random_state=42)\n",
        "\n",
        "# Create the ElasticNetCV model\n",
        "model = ElasticNetCV(l1_ratio=[.1, .5, .7, .9, .95, .99, 1], cv=10, random_state=42)\n",
        "\n",
        "# Train the model\n",
        "model.fit(X_train, y_train)\n",
        "\n",
        "# Use the model to make predictions\n",
        "y_pred = model.predict(X_test)\n",
        "\n",
        "# Now, we can evaluate the model\n",
        "print(\"R^2 Score: \", metrics.r2_score(y_test, y_pred))\n",
        "print(\"Mean Absolute Error: \", metrics.mean_absolute_error(y_test, y_pred))\n",
        "print(\"Mean Squared Error: \", metrics.mean_squared_error(y_test, y_pred))\n",
        "print(\"Root Mean Squared Error: \", np.sqrt(metrics.mean_squared_error(y_test, y_pred)))\n",
        "\n",
        "# Print the optimal alpha and l1 ratio\n",
        "print('Optimal alpha: ', model.alpha_)\n",
        "print('Optimal l1 ratio: ', model.l1_ratio_)\n"
      ]
    },
    {
      "cell_type": "code",
      "execution_count": null,
      "metadata": {
        "id": "ijgvbqIu2iea"
      },
      "outputs": [],
      "source": [
        "# model.py\n",
        "pickle.dump(model, open(\"model.pkl\",\"wb\"))"
      ]
    },
    {
      "cell_type": "code",
      "execution_count": null,
      "metadata": {
        "colab": {
          "background_save": true,
          "base_uri": "https://localhost:8080/"
        },
        "id": "x7fXHigw2jAK",
        "outputId": "5cb548b1-b825-4a1d-c34f-62722b0b7dfb"
      },
      "outputs": [
        {
          "name": "stdout",
          "output_type": "stream",
          "text": [
            " * Serving Flask app '__main__'\n",
            " * Debug mode: on\n"
          ]
        },
        {
          "name": "stderr",
          "output_type": "stream",
          "text": [
            "INFO:werkzeug:\u001b[31m\u001b[1mWARNING: This is a development server. Do not use it in a production deployment. Use a production WSGI server instead.\u001b[0m\n",
            " * Running on http://127.0.0.1:5000\n",
            "INFO:werkzeug:\u001b[33mPress CTRL+C to quit\u001b[0m\n",
            "INFO:werkzeug: * Restarting with stat\n"
          ]
        }
      ],
      "source": [
        "from flask import Flask, render_template, request\n",
        "import pandas as pd\n",
        "import numpy as np\n",
        "from sklearn.linear_model import ElasticNetCV\n",
        "from sklearn.preprocessing import StandardScaler\n",
        "import pickle\n",
        "\n",
        "app = Flask(__name__)\n",
        "\n",
        "# Load the trained model and scaler\n",
        "model = pickle.load(open(\"model.pkl\", \"rb\"))\n",
        "\n",
        "@app.route(\"/\")\n",
        "def home():\n",
        "    return render_template(\"index.html\")\n",
        "\n",
        "@app.route(\"/predict\", methods=[\"POST\"])\n",
        "def predict():\n",
        "    # Get the input data from the form\n",
        "    area = float(request.form[\"area\"])\n",
        "    rooms = int(request.form[\"rooms\"])\n",
        "    has_elevator = int(request.form[\"elevator\"])\n",
        "    has_parking = int(request.form[\"parking\"])\n",
        "    has_bars = int(request.form[\"bars\"])\n",
        "    has_storage = int(request.form[\"storage\"])\n",
        "    has_air_condition = int(request.form[\"air_condition\"])\n",
        "    has_balcony = int(request.form[\"balcony\"])\n",
        "    has_mamad = int(request.form[\"mamad\"])\n",
        "    is_handicap_friendly = int(request.form[\"handicap_friendly\"])\n",
        "\n",
        "    # Create a DataFrame from the input data\n",
        "    data = {\n",
        "        \"Area\": [area],\n",
        "        \"room_number\": [rooms],\n",
        "        \"hasElevator\": [has_elevator],\n",
        "        \"hasParking\": [has_parking],\n",
        "        \"hasBars\": [has_bars],\n",
        "        \"hasStorage\": [has_storage],\n",
        "        \"hasAirCondition\": [has_air_condition],\n",
        "        \"hasBalcony\": [has_balcony],\n",
        "        \"hasMamad\": [has_mamad],\n",
        "        \"handicapFriendly\": [is_handicap_friendly]\n",
        "    }\n",
        "    df = pd.DataFrame(data)\n",
        "\n",
        "    # Convert binary features to 0 and 1\n",
        "    binary_columns = ['hasElevator', 'hasParking', 'hasBars', 'hasStorage', 'hasAirCondition', 'hasBalcony', 'hasMamad', 'handicapFriendly']\n",
        "    df[binary_columns] = df[binary_columns].astype(str)\n",
        "    df[binary_columns] = df[binary_columns].applymap(lambda x: 1 if 'is' in x else 0)\n",
        "\n",
        "    # Standardize the input data using the scaler\n",
        "    scaler = StandardScaler()\n",
        "    df_scaled = scaler.fit_transform(df)\n",
        "\n",
        "    # Predict the apartment price\n",
        "    price = model.predict(df_scaled)[0]\n",
        "\n",
        "    return render_template(\"index.html\", price=price)\n",
        "\n",
        "if __name__ == \"__main__\":\n",
        "    app.run(debug=True)\n"
      ]
    },
    {
      "cell_type": "code",
      "execution_count": null,
      "metadata": {
        "colab": {
          "base_uri": "https://localhost:8080/"
        },
        "id": "bA5vO__V2jNv",
        "outputId": "6e2be979-c064-4f30-da0f-70f38bd4a87c"
      },
      "outputs": [
        {
          "name": "stdout",
          "output_type": "stream",
          "text": [
            " * Serving Flask app '__main__'\n",
            " * Debug mode: on\n"
          ]
        },
        {
          "name": "stderr",
          "output_type": "stream",
          "text": [
            "INFO:werkzeug:\u001b[31m\u001b[1mWARNING: This is a development server. Do not use it in a production deployment. Use a production WSGI server instead.\u001b[0m\n",
            " * Running on all addresses (0.0.0.0)\n",
            " * Running on http://127.0.0.1:5000\n",
            " * Running on http://172.28.0.12:5000\n",
            "INFO:werkzeug:\u001b[33mPress CTRL+C to quit\u001b[0m\n",
            "INFO:werkzeug: * Restarting with stat\n"
          ]
        }
      ],
      "source": [
        "# flask.api\n",
        "\n",
        "app = Flask(__name__)\n",
        "rf_model = pickle.load(open('model.pkl', 'rb'))\n",
        "\n",
        "@app.route('/')\n",
        "def home():\n",
        "    return render_template('index.html')\n",
        "\n",
        "@app.route('/predict',methods=['POST'])\n",
        "def predict():\n",
        "    '''\n",
        "    For rendering results on HTML GUI\n",
        "    '''\n",
        "    features = request.form.getlist('feature')\n",
        "\n",
        "    final_features = [features]\n",
        "    prediction = rf_model.predict(final_features)[0]\n",
        "    #risk = rf_model.predict_proba(final_features)[0][1]\n",
        "\n",
        "    prediction_text = f'The price is: {prediction}'\n",
        "\n",
        "    return render_template('index.html', prediction_text='{}'.format(output_text))\n",
        "\n",
        "\n",
        "if __name__ == \"__main__\":\n",
        "    port = int(os.environ.get('PORT', 5000))\n",
        "\n",
        "    app.run(host='0.0.0.0', port=port,debug=True)\n"
      ]
    },
    {
      "cell_type": "code",
      "execution_count": null,
      "metadata": {
        "id": "2RZYluPCbg-u"
      },
      "outputs": [],
      "source": []
    }
  ],
  "metadata": {
    "colab": {
      "provenance": []
    },
    "kernelspec": {
      "display_name": "Python 3",
      "name": "python3"
    },
    "language_info": {
      "name": "python"
    }
  },
  "nbformat": 4,
  "nbformat_minor": 0
}